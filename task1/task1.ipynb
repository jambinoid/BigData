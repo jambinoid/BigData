{
 "cells": [
  {
   "cell_type": "markdown",
   "id": "4d2cecf4-f850-473c-8bec-e86f443c7375",
   "metadata": {},
   "source": [
    "# Задача 1"
   ]
  },
  {
   "cell_type": "code",
   "execution_count": 1,
   "id": "9f241992-e732-4b1f-8062-83a41af0933e",
   "metadata": {},
   "outputs": [],
   "source": [
    "import random\n",
    "from time import time\n",
    "\n",
    "from file_generator import generate_file\n",
    "from file_reader import read_n_calc"
   ]
  },
  {
   "cell_type": "markdown",
   "id": "b3b961da-e70b-475f-828d-65b405601609",
   "metadata": {},
   "source": [
    "Генерация бинарного файла"
   ]
  },
  {
   "cell_type": "code",
   "execution_count": 2,
   "id": "5b4e70dd-1258-4808-85e2-6deb750f0d5c",
   "metadata": {},
   "outputs": [],
   "source": [
    "random.seed(21)"
   ]
  },
  {
   "cell_type": "code",
   "execution_count": 3,
   "id": "0ca01486-09e6-40a7-b8c8-a7cb2eef82d1",
   "metadata": {},
   "outputs": [
    {
     "name": "stderr",
     "output_type": "stream",
     "text": [
      "100%|██████████| 536870912/536870912 [18:59<00:00, 471039.25it/s]\n"
     ]
    }
   ],
   "source": [
    "generate_file(\"foo.txt\")"
   ]
  },
  {
   "cell_type": "markdown",
   "id": "b79dab3e-a1b3-4dad-afe7-95d34994f35a",
   "metadata": {},
   "source": [
    "Сравнение времени работы прямого и многопоточного чтения с файлами, отображенными в память"
   ]
  },
  {
   "cell_type": "code",
   "execution_count": 4,
   "id": "dcb5e4ba-4536-4754-9103-8df424adce30",
   "metadata": {},
   "outputs": [
    {
     "name": "stderr",
     "output_type": "stream",
     "text": [
      "536870912it [03:13, 2768536.38it/s]"
     ]
    },
    {
     "name": "stdout",
     "output_type": "stream",
     "text": [
      "Время работы: 194.74598932266235 сек\n"
     ]
    },
    {
     "name": "stderr",
     "output_type": "stream",
     "text": [
      "\n"
     ]
    }
   ],
   "source": [
    "time_start = time()\n",
    "sum_a, min_a, max_a = read_n_calc(\"foo.txt\", use_multiprocessing=False)\n",
    "time_finish = time()\n",
    "print(\"Время работы: {} сек\".format(time_finish - time_start))"
   ]
  },
  {
   "cell_type": "code",
   "execution_count": 5,
   "id": "d1620a37-42ca-405c-9749-b3df6b727f30",
   "metadata": {
    "scrolled": true,
    "tags": []
   },
   "outputs": [
    {
     "name": "stderr",
     "output_type": "stream",
     "text": [
      "4it [00:01,  3.45it/s]\n",
      "134217728it [01:03, 2117796.21it/s]\n",
      "134217728it [01:02, 2147122.81it/s]\n",
      "134217728it [01:02, 2163076.36it/s]\n",
      "134217728it [01:02, 2144303.16it/s]\n"
     ]
    },
    {
     "name": "stdout",
     "output_type": "stream",
     "text": [
      "Время работы: 68.90707612037659 сек\n"
     ]
    }
   ],
   "source": [
    "time_start = time()\n",
    "sum_b, min_b, max_b = read_n_calc(\"foo.txt\", use_multiprocessing=True)\n",
    "time_finish = time()\n",
    "print(\"Время работы: {} сек\".format(time_finish - time_start))"
   ]
  },
  {
   "cell_type": "markdown",
   "id": "6ac05beb-ce02-46b6-a70c-70abbe116c88",
   "metadata": {},
   "source": [
    "Сравнение результатов"
   ]
  },
  {
   "cell_type": "code",
   "execution_count": 6,
   "id": "2d7a2fff-3c9f-44bc-8eb5-cd16e6548248",
   "metadata": {},
   "outputs": [
    {
     "data": {
      "text/plain": [
       "(True, True, True)"
      ]
     },
     "execution_count": 6,
     "metadata": {},
     "output_type": "execute_result"
    }
   ],
   "source": [
    "sum_a == sum_b, min_a == min_b, max_a == max_b"
   ]
  },
  {
   "cell_type": "code",
   "execution_count": 7,
   "id": "bc23bd66-daff-4b3e-9afa-816ff995b66f",
   "metadata": {},
   "outputs": [
    {
     "name": "stdout",
     "output_type": "stream",
     "text": [
      "1152909139978701837\n",
      "0\n",
      "4294967287\n"
     ]
    }
   ],
   "source": [
    "print(sum_a)\n",
    "print(min_a)\n",
    "print(max_a)"
   ]
  }
 ],
 "metadata": {
  "kernelspec": {
   "display_name": "Python 3",
   "language": "python",
   "name": "python3"
  },
  "language_info": {
   "codemirror_mode": {
    "name": "ipython",
    "version": 3
   },
   "file_extension": ".py",
   "mimetype": "text/x-python",
   "name": "python",
   "nbconvert_exporter": "python",
   "pygments_lexer": "ipython3",
   "version": "3.9.4"
  }
 },
 "nbformat": 4,
 "nbformat_minor": 5
}
