{
 "cells": [
  {
   "cell_type": "markdown",
   "id": "419c6960-b2c8-49ef-8715-35927fd6c6ff",
   "metadata": {},
   "source": [
    "# Обработка данных с помощью Spark"
   ]
  },
  {
   "cell_type": "markdown",
   "id": "6968b722-0a11-4662-826e-e39b6161c61c",
   "metadata": {},
   "source": [
    "## Импорты"
   ]
  },
  {
   "cell_type": "code",
   "execution_count": 1,
   "id": "5c104735-5072-4017-a7fa-99b24d4c36d6",
   "metadata": {},
   "outputs": [],
   "source": [
    "import os\n",
    "from functools import reduce\n",
    "from operator import add\n",
    "\n",
    "from pyspark.sql import SparkSession\n",
    "\n",
    "import pyspark.sql.functions as F"
   ]
  },
  {
   "cell_type": "code",
   "execution_count": 2,
   "id": "4a8504d6-724f-40b7-9a9d-fbefc01f5465",
   "metadata": {},
   "outputs": [],
   "source": [
    "os.environ[\"PYSPARK_PYTHON\"] = \"python3\""
   ]
  },
  {
   "cell_type": "markdown",
   "id": "5d3bdc65-2566-459d-afeb-9fbfd8b330a2",
   "metadata": {},
   "source": [
    "## Вспомогательные функции и константы"
   ]
  },
  {
   "cell_type": "code",
   "execution_count": 3,
   "id": "77babba3-263f-4f75-a9d0-09e242634e92",
   "metadata": {},
   "outputs": [],
   "source": [
    "csv_path = \"elections_results.csv\" "
   ]
  },
  {
   "cell_type": "markdown",
   "id": "9034ca3a-6482-46b6-9157-948078a7a7b6",
   "metadata": {},
   "source": [
    "## SparkSQL"
   ]
  },
  {
   "cell_type": "markdown",
   "id": "2dd66b8f-b6c5-4678-8b59-9e896f19ac2b",
   "metadata": {},
   "source": [
    "Точка входа"
   ]
  },
  {
   "cell_type": "code",
   "execution_count": 4,
   "id": "e7d72552-a24e-4aa1-bcb9-eea48fb93fc7",
   "metadata": {},
   "outputs": [],
   "source": [
    "spark = SparkSession \\\n",
    "    .builder \\\n",
    "    .appName(\"PySpark\") \\\n",
    "    .getOrCreate()"
   ]
  },
  {
   "cell_type": "markdown",
   "id": "152916a8-fbf3-41fb-80bc-75fc060bed46",
   "metadata": {},
   "source": [
    "Читаем файл"
   ]
  },
  {
   "cell_type": "code",
   "execution_count": 5,
   "id": "069e501e-a23c-402b-bc72-23f2d33b6c23",
   "metadata": {},
   "outputs": [
    {
     "name": "stdout",
     "output_type": "stream",
     "text": [
      "+--------------------+----------+------+------------+------------+------------+-------------+--------------+--------------+------------------------+--------------------------+--------------+------------+-----------+------------------+-------+--------+-----------+-----+-------+--------+-----+--------+\n",
      "|              Region|       TIK|   UIK|Total voters|Total papers|Early papers|Inside papers|Outside papers|Pledged papers|Papers in portable boxes|Papers in stacionary boxes|Invalid papers|Valid papers|Lost papers|Not counted papers|Baburin|Grudinin|Zhirinovsky|Putin|Sobchak|Suraikin|Titov|Yavlisky|\n",
      "+--------------------+----------+------+------------+------------+------------+-------------+--------------+--------------+------------------------+--------------------------+--------------+------------+-----------+------------------+-------+--------+-----------+-----+-------+--------+-----+--------+\n",
      "|Республика Адыгея...|Адыгейская|УИК №1|        2256|        2181|           0|         2107|            62|            12|                      62|                      2107|             3|        2166|          0|                 0|      0|     137|         32| 1977|     14|       0|    1|       5|\n",
      "|Республика Адыгея...|Адыгейская|УИК №2|        2700|        2633|           0|         2575|            41|            17|                      41|                      2575|            22|        2594|          0|                 0|     15|      86|         65| 2389|     13|       5|    6|      15|\n",
      "|Республика Адыгея...|Адыгейская|УИК №3|        2858|        2752|           0|         2664|            75|            13|                      75|                      2664|             5|        2734|          0|                 0|      1|      62|         13| 2645|      6|       3|    4|       0|\n",
      "|Республика Адыгея...|Адыгейская|УИК №4|        2066|        2034|           0|         1857|           142|            35|                     142|                      1857|            21|        1978|          0|                 0|      5|     288|         12| 1642|     21|       6|    2|       2|\n",
      "|Республика Адыгея...|Адыгейская|УИК №5|         700|         714|           0|          676|            11|            27|                      11|                       676|             3|         684|          0|                 0|      2|      44|          6|  624|      6|       0|    0|       2|\n",
      "+--------------------+----------+------+------------+------------+------------+-------------+--------------+--------------+------------------------+--------------------------+--------------+------------+-----------+------------------+-------+--------+-----------+-----+-------+--------+-----+--------+\n",
      "only showing top 5 rows\n",
      "\n"
     ]
    }
   ],
   "source": [
    "df = spark.read.csv(csv_path, inferSchema=True, header=True).toDF(\n",
    "    \"Region\", \"TIK\", \"UIK\", \"Total voters\", \"Total papers\", \"Early papers\",\n",
    "    \"Inside papers\", \"Outside papers\", \"Pledged papers\", \n",
    "    \"Papers in portable boxes\", \"Papers in stacionary boxes\",\n",
    "    \"Invalid papers\", \"Valid papers\", \"Lost papers\", \"Not counted papers\",\n",
    "    \"Baburin\", \"Grudinin\", \"Zhirinovsky\", \"Putin\",\n",
    "    \"Sobchak\", \"Suraikin\", \"Titov\", \"Yavlisky\")\n",
    "df.show(5)"
   ]
  },
  {
   "cell_type": "markdown",
   "id": "8e6eedd9-25a0-469c-b617-b46f7237b09e",
   "metadata": {},
   "source": [
    "### 1. Найти явку (%) по всем регионам, результат отсортировать по убыванию\n",
    "Отношение выданных бюллетеней к числу избирателей в списке"
   ]
  },
  {
   "cell_type": "code",
   "execution_count": 6,
   "id": "b7d8833c-5272-4fc3-9d85-2c1bacf1070f",
   "metadata": {},
   "outputs": [
    {
     "name": "stdout",
     "output_type": "stream",
     "text": [
      "+--------------------+----------------+-----------------+------------------+----------+\n",
      "|              Region|Sum early papers|Sum inside papers|Sum outside papers|Sum voters|\n",
      "+--------------------+----------------+-----------------+------------------+----------+\n",
      "|Республика Саха (...|           17281|           418588|             21196|    643786|\n",
      "|Калининградская о...|               0|           472062|             23183|    796445|\n",
      "|Новосибирская обл...|               0|          1240320|             64418|   2159912|\n",
      "|   город Севастополь|             633|           233869|              7674|    339010|\n",
      "|Свердловская область|            3210|          2003456|             79001|   3345221|\n",
      "|  Республика Хакасия|             356|           230967|             14043|    372528|\n",
      "| Магаданская область|            2417|            68365|              3018|    102626|\n",
      "|Республика Ингушетия|             544|           177335|              1862|    219305|\n",
      "|Удмуртская Респуб...|               0|           716357|             33586|   1185303|\n",
      "|     Камчатский край|            2009|           154014|              5907|    239045|\n",
      "+--------------------+----------------+-----------------+------------------+----------+\n",
      "only showing top 10 rows\n",
      "\n"
     ]
    }
   ],
   "source": [
    "df_attendance = df.groupBy(\"Region\") \\\n",
    "  .agg(F.sum(\"Early papers\").alias(\"Sum early papers\"), \\\n",
    "       F.sum(\"Inside papers\").alias(\"Sum inside papers\"), \\\n",
    "       F.sum(\"Outside papers\").alias(\"Sum outside papers\"), \\\n",
    "       F.sum(\"Total voters\").alias(\"Sum voters\")) \\\n",
    "\n",
    "df_attendance.show(10)"
   ]
  },
  {
   "cell_type": "code",
   "execution_count": 7,
   "id": "542fafaa-ed7e-4640-9f1f-6f3a255a9cc8",
   "metadata": {},
   "outputs": [
    {
     "name": "stdout",
     "output_type": "stream",
     "text": [
      "+--------------------+----------+----------+\n",
      "|              Region|Sum papers|Sum voters|\n",
      "+--------------------+----------+----------+\n",
      "|Республика Саха (...|    457065|    643786|\n",
      "|Калининградская о...|    495245|    796445|\n",
      "|Новосибирская обл...|   1304738|   2159912|\n",
      "|   город Севастополь|    242176|    339010|\n",
      "|Свердловская область|   2085667|   3345221|\n",
      "|  Республика Хакасия|    245366|    372528|\n",
      "| Магаданская область|     73800|    102626|\n",
      "|Республика Ингушетия|    179741|    219305|\n",
      "|Удмуртская Респуб...|    749943|   1185303|\n",
      "|     Камчатский край|    161930|    239045|\n",
      "+--------------------+----------+----------+\n",
      "only showing top 10 rows\n",
      "\n"
     ]
    }
   ],
   "source": [
    "df_attendance = df_attendance \\\n",
    "    .withColumn(\"Sum papers\", reduce(\n",
    "        add,\n",
    "        map(F.col, [\"Sum early papers\", \"Sum inside papers\", \"Sum outside papers\"])\n",
    "    )) \\\n",
    "    .select(\"Region\", \"Sum papers\", \"Sum voters\") \\\n",
    "    \n",
    "df_attendance.show(10)"
   ]
  },
  {
   "cell_type": "code",
   "execution_count": 8,
   "id": "45c750c7-9570-4be9-a617-2b79ecc4c393",
   "metadata": {},
   "outputs": [
    {
     "name": "stdout",
     "output_type": "stream",
     "text": [
      "+--------------------+------------------+\n",
      "|              Region|     Attendance, %|\n",
      "+--------------------+------------------+\n",
      "|Территория за пре...|0.9806986984380843|\n",
      "|     Республика Тыва|0.9366369316170003|\n",
      "|Ямало-Ненецкий ав...|0.9190125747324195|\n",
      "|Кабардино-Балкарс...|0.9180157863562131|\n",
      "|Чеченская Республика|0.9154001705101918|\n",
      "|Республика Северн...|0.8998810071492768|\n",
      "| Республика Дагестан|0.8747795414462081|\n",
      "|Карачаево-Черкесс...|0.8740544668203033|\n",
      "| Кемеровская область|0.8322733516003962|\n",
      "|Чукотский автоном...|0.8228138695924391|\n",
      "+--------------------+------------------+\n",
      "only showing top 10 rows\n",
      "\n"
     ]
    }
   ],
   "source": [
    "df_attendance_perc = df_attendance \\\n",
    "    .withColumn(\"Attendance, %\", F.col(\"Sum papers\") / F.col(\"Sum voters\")) \\\n",
    "    .select(\"Region\", \"Attendance, %\") \\\n",
    "    .sort(\"Attendance, %\", ascending=False)\n",
    "\n",
    "df_attendance_perc.show(10)"
   ]
  },
  {
   "cell_type": "markdown",
   "id": "f70651a3-dda1-443e-8b2f-76837a115f04",
   "metadata": {},
   "source": [
    "### 2. Выбрать любимого кандидата и найти тот избиратeльный участок, на котором он получил наибольший результат (учитывать участки на которых проголосовало больше 300 человек)"
   ]
  },
  {
   "cell_type": "code",
   "execution_count": 9,
   "id": "401fca09-b382-4861-bb38-3b74fa3eed45",
   "metadata": {},
   "outputs": [
    {
     "name": "stdout",
     "output_type": "stream",
     "text": [
      "+------------------+---------+---------+------------------+\n",
      "|            Region|      TIK|      UIK|       Grudinin, %|\n",
      "+------------------+---------+---------+------------------+\n",
      "|Московская область|Ленинская|УИК №1306|0.6653061224489796|\n",
      "+------------------+---------+---------+------------------+\n",
      "only showing top 1 row\n",
      "\n"
     ]
    }
   ],
   "source": [
    "favorite_candidate = \"Grudinin\"\n",
    "favorite_candidate_perc = favorite_candidate + \", %\"\n",
    "\n",
    "df_favorite_candidate = df \\\n",
    "    .filter(F.col(favorite_candidate) >= 300) \\\n",
    "    .withColumn(favorite_candidate_perc,\n",
    "                F.col(favorite_candidate) / reduce(\n",
    "                    add,\n",
    "                    map(F.col, [\"Early papers\", \"Inside papers\", \"Outside papers\"])\n",
    "                ))\\\n",
    "    .select(\"Region\", \"TIK\", \"UIK\", favorite_candidate_perc) \\\n",
    "    .sort(favorite_candidate_perc, ascending=False)\n",
    "#     .groupBy(\"Region\", \"TIK\", \"UIK\") \\\n",
    "#     .agg(F.max(favorite_candidate))\n",
    "\n",
    "df_favorite_candidate.show(1)"
   ]
  },
  {
   "cell_type": "markdown",
   "id": "ee9475fa-0232-4eba-8a2e-d7a4db3d875a",
   "metadata": {},
   "source": [
    "### 3. Найти регион, где разница между ТИК с наибольшей явкой и наименьшей максимальна"
   ]
  },
  {
   "cell_type": "code",
   "execution_count": 10,
   "id": "fc7bdd13-a02e-4775-878b-6307c6c06934",
   "metadata": {},
   "outputs": [
    {
     "name": "stdout",
     "output_type": "stream",
     "text": [
      "+--------------------+--------------------+------------------+\n",
      "|              Region|                 TIK|     Attendance, %|\n",
      "+--------------------+--------------------+------------------+\n",
      "|Архангельская обл...|         Новая Земля|  0.99795605518651|\n",
      "|     Республика Тыва|         Тес-Хемская|0.9967462039045553|\n",
      "| Сахалинская область|  Невельская судовая| 0.995766299745978|\n",
      "|     Республика Тыва|   Монгун-Тайгинская|  0.99545159194282|\n",
      "|     Республика Тыва|        Улуг-Хемская|0.9917140379612679|\n",
      "|Республика Татарс...|         Тюлячинская|0.9912042668662862|\n",
      "|     Республика Тыва|        Сут-Хольская|0.9911560328490209|\n",
      "|     Республика Тыва|           Эрзинская| 0.991008991008991|\n",
      "|     Камчатский край|Петропавловск-Кам...| 0.990578734858681|\n",
      "|     Республика Тыва|        Чаа-Хольская|0.9894532334165973|\n",
      "+--------------------+--------------------+------------------+\n",
      "only showing top 10 rows\n",
      "\n"
     ]
    }
   ],
   "source": [
    "df_TIK_attendance = df.groupBy(\"Region\", \"TIK\") \\\n",
    "  .agg(F.sum(\"Early papers\").alias(\"Sum early papers\"), \\\n",
    "       F.sum(\"Inside papers\").alias(\"Sum inside papers\"), \\\n",
    "       F.sum(\"Outside papers\").alias(\"Sum outside papers\"), \\\n",
    "       F.sum(\"Total voters\").alias(\"Sum voters\")) \\\n",
    "\n",
    "df_TIK_attendance = df_TIK_attendance \\\n",
    "    .withColumn(\"Sum papers\", reduce(\n",
    "        add,\n",
    "        map(F.col, [\"Sum early papers\", \"Sum inside papers\", \"Sum outside papers\"])\n",
    "    )) \\\n",
    "    .select(\"Region\", \"TIK\", \"Sum papers\", \"Sum voters\") \\\n",
    "\n",
    "df_TIK_attendance = df_TIK_attendance \\\n",
    "    .withColumn(\"Attendance, %\", F.col(\"Sum papers\") / F.col(\"Sum voters\")) \\\n",
    "    .select(\"Region\", \"TIK\", \"Attendance, %\") \\\n",
    "    .sort(\"Attendance, %\", ascending=False)\n",
    "\n",
    "df_TIK_attendance.show(10)"
   ]
  },
  {
   "cell_type": "code",
   "execution_count": 11,
   "id": "2d4d4b15-a2fa-4a86-9fdc-a8c91993198e",
   "metadata": {},
   "outputs": [
    {
     "name": "stdout",
     "output_type": "stream",
     "text": [
      "+--------------------+-------------------+\n",
      "|              Region|         Difference|\n",
      "+--------------------+-------------------+\n",
      "|Архангельская обл...|0.49859164840684894|\n",
      "+--------------------+-------------------+\n",
      "only showing top 1 row\n",
      "\n"
     ]
    }
   ],
   "source": [
    "df_TIK_attendance_diff = df_TIK_attendance \\\n",
    "    .groupBy(\"Region\") \\\n",
    "    .agg((F.max(\"Attendance, %\") - F.min(\"Attendance, %\")).alias(\"Difference\")) \\\n",
    "    .sort(\"Difference\", ascending=False)\n",
    "\n",
    "df_TIK_attendance_diff.show(1)"
   ]
  },
  {
   "cell_type": "markdown",
   "id": "29caee9e-bb54-4f13-a811-e535b70901a0",
   "metadata": {},
   "source": [
    "### 4. Посчитать дисперсию по явке для каждого региона (учитывать УИК)"
   ]
  },
  {
   "cell_type": "code",
   "execution_count": 12,
   "id": "e4fea027-9016-4f72-858e-3aeae8d86d2f",
   "metadata": {},
   "outputs": [
    {
     "name": "stdout",
     "output_type": "stream",
     "text": [
      "+--------------------+-----------------+\n",
      "|              Region|  Attendance, std|\n",
      "+--------------------+-----------------+\n",
      "|Территория за пре...|1332.153361037134|\n",
      "|Чеченская Республика|779.5717067527235|\n",
      "|Ямало-Ненецкий ав...|739.3290449083053|\n",
      "|Республика Северн...|677.9089014204244|\n",
      "| Республика Дагестан|657.2845481650252|\n",
      "|     Республика Тыва|641.6682099770799|\n",
      "| Кемеровская область|621.0871610694816|\n",
      "| Магаданская область|614.8118916285797|\n",
      "|Кабардино-Балкарс...|614.0460846716691|\n",
      "|    Брянская область|592.4564291304055|\n",
      "+--------------------+-----------------+\n",
      "only showing top 10 rows\n",
      "\n"
     ]
    }
   ],
   "source": [
    "df_attendance_std = df \\\n",
    "    .withColumn(\"Attendance\", reduce(\n",
    "        add,\n",
    "        map(F.col, [\"Early papers\", \"Outside papers\", \"Inside papers\"])\n",
    "    )) \\\n",
    "    .select(\"Region\", \"TIK\", \"UIK\", \"Attendance\") \\\n",
    "    .groupBy(\"Region\") \\\n",
    "    .agg(F.stddev(\"Attendance\").alias(\"Attendance, std\")) \\\n",
    "    .sort(\"Attendance, std\", ascending=False) \n",
    "    \n",
    "df_attendance_std.show(10)"
   ]
  },
  {
   "cell_type": "markdown",
   "id": "c52aaf42-b9c8-49a6-8f76-bc4e2b698ea5",
   "metadata": {},
   "source": [
    "### 5. Для каждого кандидата посчитать таблицу: результат (%, округленный до целого) - количество УИК, на которых кандидат получил данный результат"
   ]
  },
  {
   "cell_type": "code",
   "execution_count": 13,
   "id": "8793b5ce-6bdb-4239-8b1e-9ac031565d0d",
   "metadata": {},
   "outputs": [],
   "source": [
    "candidates = [\"Baburin\", \"Grudinin\", \"Zhirinovsky\", \"Putin\",\n",
    "              \"Sobchak\", \"Suraikin\", \"Titov\", \"Yavlisky\"]"
   ]
  },
  {
   "cell_type": "code",
   "execution_count": 14,
   "id": "f7a35722-42bb-44c5-a0c9-fa6b6be3c640",
   "metadata": {},
   "outputs": [
    {
     "name": "stdout",
     "output_type": "stream",
     "text": [
      "+----------+---------+\n",
      "|Baburin, %|UIK_count|\n",
      "+----------+---------+\n",
      "|      44.0|        1|\n",
      "|      23.0|        1|\n",
      "|      21.0|        1|\n",
      "|      20.0|        3|\n",
      "|      18.0|        2|\n",
      "|      17.0|        1|\n",
      "|      15.0|        1|\n",
      "|      14.0|        3|\n",
      "|      13.0|        1|\n",
      "|      12.0|        1|\n",
      "|      11.0|        5|\n",
      "|      10.0|        7|\n",
      "|       9.0|       10|\n",
      "|       8.0|       22|\n",
      "|       7.0|       20|\n",
      "|       6.0|       35|\n",
      "|       5.0|       89|\n",
      "|       4.0|      179|\n",
      "|       3.0|      555|\n",
      "|       2.0|     3692|\n",
      "+----------+---------+\n",
      "only showing top 20 rows\n",
      "\n",
      "+-----------+---------+\n",
      "|Grudinin, %|UIK_count|\n",
      "+-----------+---------+\n",
      "|       80.0|        1|\n",
      "|       78.0|        1|\n",
      "|       75.0|        1|\n",
      "|       71.0|        1|\n",
      "|       70.0|        1|\n",
      "|       69.0|        1|\n",
      "|       68.0|        1|\n",
      "|       67.0|        3|\n",
      "|       61.0|        1|\n",
      "|       60.0|        1|\n",
      "|       58.0|        3|\n",
      "|       57.0|        4|\n",
      "|       56.0|        4|\n",
      "|       55.0|        2|\n",
      "|       54.0|        5|\n",
      "|       53.0|        3|\n",
      "|       52.0|        5|\n",
      "|       51.0|        2|\n",
      "|       50.0|       14|\n",
      "|       49.0|        4|\n",
      "+-----------+---------+\n",
      "only showing top 20 rows\n",
      "\n",
      "+--------------+---------+\n",
      "|Zhirinovsky, %|UIK_count|\n",
      "+--------------+---------+\n",
      "|          96.0|        1|\n",
      "|          78.0|        1|\n",
      "|          67.0|        2|\n",
      "|          64.0|        1|\n",
      "|          60.0|        1|\n",
      "|          56.0|        1|\n",
      "|          54.0|        2|\n",
      "|          53.0|        1|\n",
      "|          50.0|        1|\n",
      "|          48.0|        1|\n",
      "|          47.0|        1|\n",
      "|          46.0|        2|\n",
      "|          44.0|        2|\n",
      "|          42.0|        5|\n",
      "|          41.0|        5|\n",
      "|          40.0|        7|\n",
      "|          39.0|        1|\n",
      "|          38.0|        7|\n",
      "|          37.0|        3|\n",
      "|          36.0|       10|\n",
      "+--------------+---------+\n",
      "only showing top 20 rows\n",
      "\n",
      "+--------+---------+\n",
      "|Putin, %|UIK_count|\n",
      "+--------+---------+\n",
      "|   100.0|      242|\n",
      "|    99.0|      334|\n",
      "|    98.0|      638|\n",
      "|    97.0|      770|\n",
      "|    96.0|      915|\n",
      "|    95.0|     1285|\n",
      "|    94.0|     1265|\n",
      "|    93.0|     1474|\n",
      "|    92.0|     1577|\n",
      "|    91.0|     1566|\n",
      "|    90.0|     1871|\n",
      "|    89.0|     1541|\n",
      "|    88.0|     1725|\n",
      "|    87.0|     1833|\n",
      "|    86.0|     2065|\n",
      "|    85.0|     2374|\n",
      "|    84.0|     2314|\n",
      "|    83.0|     2592|\n",
      "|    82.0|     2637|\n",
      "|    81.0|     2981|\n",
      "+--------+---------+\n",
      "only showing top 20 rows\n",
      "\n",
      "+----------+---------+\n",
      "|Sobchak, %|UIK_count|\n",
      "+----------+---------+\n",
      "|      36.0|        1|\n",
      "|      31.0|        1|\n",
      "|      29.0|        1|\n",
      "|      27.0|        2|\n",
      "|      25.0|        3|\n",
      "|      24.0|        1|\n",
      "|      23.0|        3|\n",
      "|      22.0|        3|\n",
      "|      21.0|        2|\n",
      "|      20.0|        1|\n",
      "|      19.0|        5|\n",
      "|      18.0|        9|\n",
      "|      17.0|        8|\n",
      "|      16.0|        9|\n",
      "|      15.0|       18|\n",
      "|      14.0|       18|\n",
      "|      13.0|       25|\n",
      "|      12.0|       27|\n",
      "|      11.0|       51|\n",
      "|      10.0|       67|\n",
      "+----------+---------+\n",
      "only showing top 20 rows\n",
      "\n",
      "+-----------+---------+\n",
      "|Suraikin, %|UIK_count|\n",
      "+-----------+---------+\n",
      "|       18.0|        1|\n",
      "|       17.0|        2|\n",
      "|       16.0|        1|\n",
      "|       15.0|        1|\n",
      "|       14.0|        1|\n",
      "|       12.0|        5|\n",
      "|       11.0|       18|\n",
      "|       10.0|       54|\n",
      "|        9.0|       29|\n",
      "|        8.0|       38|\n",
      "|        7.0|       43|\n",
      "|        6.0|       82|\n",
      "|        5.0|      131|\n",
      "|        4.0|      253|\n",
      "|        3.0|      798|\n",
      "|        2.0|     3927|\n",
      "|        1.0|    48856|\n",
      "|        0.0|    43454|\n",
      "|       null|        1|\n",
      "+-----------+---------+\n",
      "\n",
      "+--------+---------+\n",
      "|Titov, %|UIK_count|\n",
      "+--------+---------+\n",
      "|    29.0|        1|\n",
      "|    24.0|        1|\n",
      "|    20.0|        3|\n",
      "|    19.0|        1|\n",
      "|    18.0|        1|\n",
      "|    17.0|        1|\n",
      "|    15.0|        4|\n",
      "|    14.0|        4|\n",
      "|    13.0|        1|\n",
      "|    12.0|        1|\n",
      "|    11.0|        5|\n",
      "|    10.0|        3|\n",
      "|     9.0|        3|\n",
      "|     8.0|       17|\n",
      "|     7.0|       22|\n",
      "|     6.0|       26|\n",
      "|     5.0|       51|\n",
      "|     4.0|      176|\n",
      "|     3.0|      863|\n",
      "|     2.0|     6532|\n",
      "+--------+---------+\n",
      "only showing top 20 rows\n",
      "\n",
      "+-----------+---------+\n",
      "|Yavlisky, %|UIK_count|\n",
      "+-----------+---------+\n",
      "|       25.0|        1|\n",
      "|       24.0|        1|\n",
      "|       21.0|        1|\n",
      "|       18.0|        1|\n",
      "|       17.0|        1|\n",
      "|       16.0|        1|\n",
      "|       14.0|        5|\n",
      "|       12.0|        1|\n",
      "|       11.0|        5|\n",
      "|       10.0|       16|\n",
      "|        9.0|       14|\n",
      "|        8.0|       49|\n",
      "|        7.0|      112|\n",
      "|        6.0|      298|\n",
      "|        5.0|      707|\n",
      "|        4.0|     1572|\n",
      "|        3.0|     3703|\n",
      "|        2.0|     9057|\n",
      "|        1.0|    30842|\n",
      "|        0.0|    51307|\n",
      "+-----------+---------+\n",
      "only showing top 20 rows\n",
      "\n"
     ]
    }
   ],
   "source": [
    "for candidate in candidates:\n",
    "    candidate_perc = candidate + \", %\"\n",
    "    df_uik_num = df \\\n",
    "        .withColumn(candidate_perc, F.round(100 * F.col(candidate) / reduce(\n",
    "            add,\n",
    "            map(F.col, [\"Early papers\", \"Outside papers\", \"Inside papers\"])\n",
    "        ))).select(\"Region\", \"TIK\", \"UIK\", candidate_perc) \\\n",
    "        .groupBy(candidate_perc) \\\n",
    "        .agg(F.count('UIK').alias('UIK_count')) \\\n",
    "        .sort(candidate_perc, ascending=False)\n",
    "\n",
    "    df_uik_num.show()"
   ]
  }
 ],
 "metadata": {
  "kernelspec": {
   "display_name": "Python 3",
   "language": "python",
   "name": "python3"
  },
  "language_info": {
   "codemirror_mode": {
    "name": "ipython",
    "version": 3
   },
   "file_extension": ".py",
   "mimetype": "text/x-python",
   "name": "python",
   "nbconvert_exporter": "python",
   "pygments_lexer": "ipython3",
   "version": "3.9.4"
  }
 },
 "nbformat": 4,
 "nbformat_minor": 5
}
